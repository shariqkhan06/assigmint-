{
 "cells": [
  {
   "cell_type": "code",
   "execution_count": 8,
   "id": "bd95a660-ea97-4aa3-9287-8fa1cf458d49",
   "metadata": {},
   "outputs": [],
   "source": [
    "import pandas as pd"
   ]
  },
  {
   "cell_type": "code",
   "execution_count": 9,
   "id": "3a6d73e4-a2ac-4a94-ab87-01a09f305dd3",
   "metadata": {},
   "outputs": [],
   "source": [
    "data_frame = pd.read_csv('retail supermarket.csv')"
   ]
  },
  {
   "cell_type": "markdown",
   "id": "d0a3cb50-7019-42f6-8b67-9cd1420d1b31",
   "metadata": {},
   "source": [
    "### 1- Find record if Sales greater than 500 and Quantity greater than 5?"
   ]
  },
  {
   "cell_type": "code",
   "execution_count": 10,
   "id": "1845fdbd-22cc-43c7-bfba-34c956ceafa0",
   "metadata": {},
   "outputs": [
    {
     "name": "stdout",
     "output_type": "stream",
     "text": [
      "Number of records found: 431\n",
      "Records with Sales > 500 and Quantity > 5, sorted by highest Profit:\n",
      "           Ship Mode      Segment        Country         City         State  \\\n",
      "9039  Standard Class     Consumer  United States      Detroit      Michigan   \n",
      "7666  Standard Class  Home Office  United States   Providence  Rhode Island   \n",
      "1085  Standard Class     Consumer  United States      Yonkers      New York   \n",
      "4277  Standard Class    Corporate  United States     Lakewood    New Jersey   \n",
      "8990  Standard Class    Corporate  United States  Springfield      Missouri   \n",
      "\n",
      "      Postal Code   Region         Category Sub-Category    Sales  Quantity  \\\n",
      "9039        48205  Central  Office Supplies      Binders  9892.74        13   \n",
      "7666         2908     East       Technology      Copiers  5399.91         9   \n",
      "1085        10701     East       Technology     Machines  4899.93         7   \n",
      "4277         8701     East       Technology     Machines  9099.93         7   \n",
      "8990        65807  Central       Technology      Copiers  4899.93         7   \n",
      "\n",
      "      Discount     Profit  \n",
      "9039       0.0  4946.3700  \n",
      "7666       0.0  2591.9568  \n",
      "1085       0.0  2400.9657  \n",
      "4277       0.0  2365.9818  \n",
      "8990       0.0  2302.9671  \n"
     ]
    }
   ],
   "source": [
    "data_frame = pd.read_csv('retail supermarket.csv')\n",
    "\n",
    "high_sales_quantity = data_frame[(data_frame['Sales'] > 500) & (data_frame['Quantity'] > 5)].copy()\n",
    "\n",
    "final_data = high_sales_quantity.sort_values(by='Profit', ascending=False)\n",
    "\n",
    "output_csv_name = 'high_sales_high_quantity_records_sorted_by_profit.csv'\n",
    "\n",
    "final_data.to_csv(output_csv_name, index=False )\n",
    "\n",
    "print(f\"Number of records found: {len(final_data)}\")\n",
    "\n",
    "print(\"Records with Sales > 500 and Quantity > 5, sorted by highest Profit:\")\n",
    "\n",
    "print(final_data.head())"
   ]
  },
  {
   "cell_type": "markdown",
   "id": "ffe3b087-3750-4765-b93f-24529c775831",
   "metadata": {},
   "source": [
    "### 2- Find records if Discount is more than 0.5 (50%) or Profit is negative."
   ]
  },
  {
   "cell_type": "code",
   "execution_count": 11,
   "id": "f41970a4-6b14-4384-934d-6cf3bb53e5d9",
   "metadata": {},
   "outputs": [
    {
     "name": "stdout",
     "output_type": "stream",
     "text": [
      "Records with Discount > 0.5 OR Profit < 0:\n",
      "           Ship Mode    Segment        Country         City     State  \\\n",
      "9774  Standard Class   Consumer  United States  San Antonio     Texas   \n",
      "4991  Standard Class  Corporate  United States      Chicago  Illinois   \n",
      "5310     First Class   Consumer  United States      Houston     Texas   \n",
      "1199  Standard Class   Consumer  United States      Houston     Texas   \n",
      "3324  Standard Class   Consumer  United States      Houston     Texas   \n",
      "\n",
      "      Postal Code   Region         Category Sub-Category     Sales  Quantity  \\\n",
      "9774        78207  Central  Office Supplies      Binders  2177.584         8   \n",
      "4991        60653  Central  Office Supplies      Binders  1889.990         5   \n",
      "5310        77095  Central  Office Supplies      Binders  1525.188         6   \n",
      "1199        77041  Central  Office Supplies      Binders  1088.792         4   \n",
      "3324        77095  Central  Office Supplies      Binders   896.990         5   \n",
      "\n",
      "      Discount     Profit  \n",
      "9774       0.8 -3701.8928  \n",
      "4991       0.8 -2929.4845  \n",
      "5310       0.8 -2287.7820  \n",
      "1199       0.8 -1850.9464  \n",
      "3324       0.8 -1480.0335  \n",
      "\n",
      "Number of records found: 1871\n"
     ]
    }
   ],
   "source": [
    "high_discount_or_negative_profit = data_frame[\n",
    "    (data_frame['Discount'] > 0.5) | (data_frame['Profit'] < 0)\n",
    "].copy()\n",
    "\n",
    "final_filtered_data = high_discount_or_negative_profit.sort_values(\n",
    "    by=['Discount', 'Profit'], \n",
    "    ascending=[False, True]\n",
    ")\n",
    "\n",
    "output_csv_name = 'high_discount_or_negative_profit_records.csv'\n",
    "final_filtered_data.to_csv(output_csv_name, index=False)\n",
    "\n",
    "print(\"Records with Discount > 0.5 OR Profit < 0:\")\n",
    "print(final_filtered_data.head())\n",
    "print(f\"\\nNumber of records found: {len(final_filtered_data)}\")"
   ]
  },
  {
   "cell_type": "markdown",
   "id": "84d7981b-4b80-47f0-8d7d-c70784db29a1",
   "metadata": {},
   "source": [
    "### 3- Display Ship Mode and Profit columns if region is East using loc"
   ]
  },
  {
   "cell_type": "code",
   "execution_count": 13,
   "id": "ce2e113d-3c64-4d8b-891d-76b935ecb28c",
   "metadata": {},
   "outputs": [
    {
     "name": "stdout",
     "output_type": "stream",
     "text": [
      "         Ship Mode     Profit\n",
      "23    Second Class    -1.0196\n",
      "27  Standard Class -1665.0522\n",
      "28  Standard Class    -7.0532\n",
      "29  Standard Class    15.5250\n",
      "30  Standard Class     1.1016\n",
      "\n",
      "Number of records found in the East Region: 2848\n"
     ]
    }
   ],
   "source": [
    "import pandas as pd\n",
    "\n",
    "data_frame = pd.read_csv('retail supermarket.csv')\n",
    "\n",
    "east_region_ship_profit = data_frame.loc[\n",
    "    data_frame['Region'] == 'East', \n",
    "    ['Ship Mode', 'Profit']\n",
    "].copy()\n",
    "\n",
    "print(east_region_ship_profit.head())\n",
    "print(f\"\\nNumber of records found in the East Region: {len(east_region_ship_profit)}\")"
   ]
  },
  {
   "cell_type": "markdown",
   "id": "e7e32052-d0e9-4214-82e7-e3ee67995b86",
   "metadata": {},
   "source": [
    "### 4- How many records belong to the \"Corporate\" segment and the \"Central\" region?"
   ]
  },
  {
   "cell_type": "code",
   "execution_count": 16,
   "id": "414c6c49-fa42-4064-95ed-32e7b8fd2b4d",
   "metadata": {},
   "outputs": [
    {
     "name": "stdout",
     "output_type": "stream",
     "text": [
      "Number of records where Segment is 'Corporate' AND Region is 'Central': 673\n"
     ]
    }
   ],
   "source": [
    "corporate_central_records = data_frame.query(\"Segment == 'Corporate' and Region == 'Central'\")\n",
    "\n",
    "record_count = len(corporate_central_records)\n",
    "\n",
    "print(f\"Number of records where Segment is 'Corporate' AND Region is 'Central': {record_count}\")"
   ]
  },
  {
   "cell_type": "markdown",
   "id": "dd7b611e-db7d-4c01-8484-3eb8e570c9aa",
   "metadata": {},
   "source": [
    "### 5- Find all orders in the \"Furniture\" category but not in \"Chairs\" sub-category."
   ]
  },
  {
   "cell_type": "code",
   "execution_count": 17,
   "id": "6fb92db8-a0ed-4da9-89d5-0effe1cc3e04",
   "metadata": {},
   "outputs": [
    {
     "name": "stdout",
     "output_type": "stream",
     "text": [
      "Number of records found: 1504\n"
     ]
    }
   ],
   "source": [
    "furniture_not_chairs = data_frame[\n",
    "    (data_frame['Category'] == 'Furniture') & \n",
    "    (data_frame['Sub-Category'] != 'Chairs')\n",
    "].copy()\n",
    "\n",
    "output_csv_name = 'furniture_not_chairs_orders.csv'\n",
    "furniture_not_chairs.to_csv(output_csv_name, index=False)\n",
    "\n",
    "print(f\"Number of records found: {len(furniture_not_chairs)}\")"
   ]
  },
  {
   "cell_type": "markdown",
   "id": "dacbe3b3-0d5e-431a-ba91-11f4cd38c373",
   "metadata": {},
   "source": [
    "### 6- Which orders have discount (>0.3) and still earned profit (>0)?"
   ]
  },
  {
   "cell_type": "code",
   "execution_count": 18,
   "id": "3d2fed2b-f2f0-48fb-adf8-2297effa1b19",
   "metadata": {},
   "outputs": [
    {
     "name": "stdout",
     "output_type": "stream",
     "text": [
      "Orders with Discount > 0.3 AND Profit > 0 (sorted by highest Discount and then highest Profit):\n",
      "           Ship Mode   Segment        Country          City         State  \\\n",
      "6425  Standard Class  Consumer  United States  Philadelphia  Pennsylvania   \n",
      "8799     First Class  Consumer  United States  Philadelphia  Pennsylvania   \n",
      "1986     First Class  Consumer  United States      Columbus          Ohio   \n",
      "4812    Second Class  Consumer  United States  Philadelphia  Pennsylvania   \n",
      "8123  Standard Class  Consumer  United States  Philadelphia  Pennsylvania   \n",
      "\n",
      "      Postal Code Region    Category Sub-Category     Sales  Quantity  \\\n",
      "6425        19120   East  Technology      Copiers  8399.976         4   \n",
      "8799        19134   East  Technology      Copiers  1799.970         5   \n",
      "1986        43229   East  Technology      Copiers  1439.976         4   \n",
      "4812        19134   East  Technology      Copiers  1199.976         4   \n",
      "8123        19134   East  Technology      Copiers  1079.976         4   \n",
      "\n",
      "      Discount     Profit  \n",
      "6425       0.4  1119.9968  \n",
      "8799       0.4   239.9960  \n",
      "1986       0.4   191.9968  \n",
      "4812       0.4   179.9964  \n",
      "8123       0.4   125.9972  \n",
      "\n",
      "Number of records found: 26\n"
     ]
    }
   ],
   "source": [
    "high_discount_and_profit = data_frame[\n",
    "    (data_frame['Discount'] > 0.3) & \n",
    "    (data_frame['Profit'] > 0)\n",
    "].copy()\n",
    "\n",
    "final_profitable_discount_orders = high_discount_and_profit.sort_values(\n",
    "    by=['Discount', 'Profit'], \n",
    "    ascending=[False, False]\n",
    ")\n",
    "\n",
    "output_csv_name = 'profitable_high_discount_orders.csv'\n",
    "final_profitable_discount_orders.to_csv(output_csv_name, index=False)\n",
    "\n",
    "print(\"Orders with Discount > 0.3 AND Profit > 0 (sorted by highest Discount and then highest Profit):\")\n",
    "print(final_profitable_discount_orders.head())\n",
    "\n",
    "print(f\"\\nNumber of records found: {len(final_profitable_discount_orders)}\")"
   ]
  },
  {
   "cell_type": "markdown",
   "id": "30244e9d-bcd9-4614-b9cb-89274e7a84cb",
   "metadata": {},
   "source": [
    "### 7- Find high-profit orders where Quantity > 5 and Category == 'Technology'."
   ]
  },
  {
   "cell_type": "code",
   "execution_count": 19,
   "id": "eb085ec9-a320-492a-a966-758e02982fdd",
   "metadata": {},
   "outputs": [
    {
     "name": "stdout",
     "output_type": "stream",
     "text": [
      "High-Profit Technology Orders with Quantity > 5 (sorted by highest Profit):\n",
      "           Ship Mode      Segment        Country         City         State  \\\n",
      "7666  Standard Class  Home Office  United States   Providence  Rhode Island   \n",
      "1085  Standard Class     Consumer  United States      Yonkers      New York   \n",
      "4277  Standard Class    Corporate  United States     Lakewood    New Jersey   \n",
      "8990  Standard Class    Corporate  United States  Springfield      Missouri   \n",
      "1644     First Class    Corporate  United States      Seattle    Washington   \n",
      "\n",
      "      Postal Code   Region    Category Sub-Category    Sales  Quantity  \\\n",
      "7666         2908     East  Technology      Copiers  5399.91         9   \n",
      "1085        10701     East  Technology     Machines  4899.93         7   \n",
      "4277         8701     East  Technology     Machines  9099.93         7   \n",
      "8990        65807  Central  Technology      Copiers  4899.93         7   \n",
      "1644        98115     West  Technology      Copiers  3149.93         7   \n",
      "\n",
      "      Discount     Profit  \n",
      "7666       0.0  2591.9568  \n",
      "1085       0.0  2400.9657  \n",
      "4277       0.0  2365.9818  \n",
      "8990       0.0  2302.9671  \n",
      "1644       0.0  1480.4671  \n",
      "\n",
      "Number of records found: 277\n"
     ]
    }
   ],
   "source": [
    "high_profit_tech_quantity = data_frame[\n",
    "    (data_frame['Quantity'] > 5) & \n",
    "    (data_frame['Category'] == 'Technology') & \n",
    "    (data_frame['Profit'] > 0)\n",
    "].copy()\n",
    "\n",
    "final_high_profit_orders = high_profit_tech_quantity.sort_values(\n",
    "    by='Profit', \n",
    "    ascending=False\n",
    ")\n",
    "\n",
    "output_csv_name = 'high_profit_tech_orders_gt_5_quantity.csv'\n",
    "final_high_profit_orders.to_csv(output_csv_name, index=False)\n",
    "\n",
    "print(\"High-Profit Technology Orders with Quantity > 5 (sorted by highest Profit):\")\n",
    "print(final_high_profit_orders.head())\n",
    "print(f\"\\nNumber of records found: {len(final_high_profit_orders)}\")"
   ]
  },
  {
   "cell_type": "markdown",
   "id": "968b3e16-89e3-4c83-8076-544ceef3d8c4",
   "metadata": {},
   "source": [
    "### 8- Select rows 0–4 and columns 'Ship Mode', 'Segment', 'Sales' by position using iloc"
   ]
  },
  {
   "cell_type": "code",
   "execution_count": 20,
   "id": "658ce7de-5de3-4ac8-8ed4-b7b82a31de25",
   "metadata": {},
   "outputs": [
    {
     "name": "stdout",
     "output_type": "stream",
     "text": [
      "        Ship Mode    Segment     Sales\n",
      "0    Second Class   Consumer  261.9600\n",
      "1    Second Class   Consumer  731.9400\n",
      "2    Second Class  Corporate   14.6200\n",
      "3  Standard Class   Consumer  957.5775\n",
      "4  Standard Class   Consumer   22.3680\n"
     ]
    }
   ],
   "source": [
    "iloc_selection = data_frame.iloc[0:5, [0, 1, 9]].copy()\n",
    "\n",
    "print(iloc_selection)"
   ]
  },
  {
   "cell_type": "markdown",
   "id": "6bfedd3c-29c8-4f8a-97e7-bbc570445a8f",
   "metadata": {},
   "source": [
    "### 9- Show Home Office segment orders with Sales > 1000 and Quantity > 3."
   ]
  },
  {
   "cell_type": "code",
   "execution_count": 21,
   "id": "0f6b3111-dd95-4786-a37f-cd036d2ba6f5",
   "metadata": {},
   "outputs": [
    {
     "name": "stdout",
     "output_type": "stream",
     "text": [
      "Number of records found: 73\n"
     ]
    }
   ],
   "source": [
    "home_office_high_sales_quantity = data_frame[\n",
    "    (data_frame['Segment'] == 'Home Office') & \n",
    "    (data_frame['Sales'] > 1000) & \n",
    "    (data_frame['Quantity'] > 3)\n",
    "].copy()\n",
    "\n",
    "final_orders = home_office_high_sales_quantity.sort_values(\n",
    "    by='Sales', \n",
    "    ascending=False\n",
    ")\n",
    "\n",
    "output_csv_name = 'home_office_high_sales_high_quantity_orders.csv'\n",
    "final_orders.to_csv(output_csv_name, index=False)\n",
    "\n",
    "print(f\"Number of records found: {len(final_orders)}\")"
   ]
  },
  {
   "cell_type": "markdown",
   "id": "caa0d9b9-555b-42d7-bb4c-3cc7f4f7bb1d",
   "metadata": {},
   "source": [
    "### 10- Find orders where Profit Margin > 0.3\n",
    "\n",
    "Profit Margin = (Profit/Sales)"
   ]
  },
  {
   "cell_type": "code",
   "execution_count": 25,
   "id": "dd9ec03f-f2fd-4d54-9034-11766ed0bea3",
   "metadata": {},
   "outputs": [
    {
     "name": "stdout",
     "output_type": "stream",
     "text": [
      "Orders with Profit Margin > 0.3 (Variables Restored):\n",
      "           Ship Mode      Segment   Sales  Profit  Profit Margin\n",
      "5899  Standard Class    Corporate    9.78    4.89            0.5\n",
      "5873        Same Day  Home Office  108.08   54.04            0.5\n",
      "720   Standard Class  Home Office  146.82   73.41            0.5\n",
      "8947  Standard Class    Corporate   12.30    6.15            0.5\n",
      "764     Second Class    Corporate   50.94   25.47            0.5\n",
      "\n",
      "Total records found: 4145\n"
     ]
    }
   ],
   "source": [
    "final_orders = (\n",
    "    data_frame.assign(\n",
    "        # Calculate Margin safely, handling Sales = 0\n",
    "        **{'Profit Margin': (data_frame['Profit'] / data_frame['Sales']).where(data_frame['Sales'] != 0, 0)}\n",
    "    )\n",
    "    .query('`Profit Margin` > 0.3')\n",
    "    .sort_values(by='Profit Margin', ascending=False)\n",
    ")\n",
    "\n",
    "output_csv_name = 'high_profit_margin_orders.csv'\n",
    "final_orders.to_csv(output_csv_name, index=False)\n",
    "\n",
    "print(\"Orders with Profit Margin > 0.3 (Variables Restored):\")\n",
    "print(final_orders[['Ship Mode', 'Segment', 'Sales', 'Profit', 'Profit Margin']].head())\n",
    "print(f\"\\nTotal records found: {len(final_orders)}\")"
   ]
  },
  {
   "cell_type": "code",
   "execution_count": null,
   "id": "fc337906-59e5-43c7-bf61-e27e2b6fb4d7",
   "metadata": {},
   "outputs": [],
   "source": []
  }
 ],
 "metadata": {
  "kernelspec": {
   "display_name": "Python 3 (ipykernel)",
   "language": "python",
   "name": "python3"
  },
  "language_info": {
   "codemirror_mode": {
    "name": "ipython",
    "version": 3
   },
   "file_extension": ".py",
   "mimetype": "text/x-python",
   "name": "python",
   "nbconvert_exporter": "python",
   "pygments_lexer": "ipython3",
   "version": "3.13.5"
  }
 },
 "nbformat": 4,
 "nbformat_minor": 5
}
