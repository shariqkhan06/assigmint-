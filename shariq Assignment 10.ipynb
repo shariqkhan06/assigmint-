{
 "cells": [
  {
   "cell_type": "markdown",
   "id": "f9948c19-2ef0-4e33-a4ef-60f600110849",
   "metadata": {},
   "source": [
    "Write a Python program to calculate Speed, Distance, or Time based on user input.\n",
    "\n",
    "### Program Title:\n",
    "\n",
    "Speed, Distance, and Time Calculator\n",
    "\n",
    "### Program Objective:\n",
    "\n",
    "To develop a program that calculates Speed, Distance, or Time based on the user’s choice and input values, using the standard motion formulas.\n",
    "\n",
    "### Introduction:\n",
    "\n",
    "This program helps users calculate one of the three motion parameters — Speed, Distance, or Time — when the other two are known.\n",
    "\n",
    "The formulas used are:\n",
    "\n",
    "- Speed = Distance / Time\n",
    "\n",
    "- Distance = Speed × Time\n",
    "\n",
    "- Time = Distance / Speed\n",
    "\n",
    "The program provides a menu-driven system where the user can choose what to calculate. It also includes error handling for invalid inputs, negative values, and division by zero.\n",
    "\n",
    "#### Program Logic:\n",
    "\n",
    "Start the Program\n",
    "\n",
    "Display Menu Options:\n",
    "\n",
    "1. Calculate Speed\n",
    "2. Calculate Distance\n",
    "3. Calculate Time\n",
    "4. Exit\n",
    "\n",
    "\n",
    "Ask the user to choose an option (1–4).\n",
    "\n",
    "Based on the user’s choice:\n",
    "\n",
    "If choice = 1 (Speed):\n",
    "\n",
    "Input: Distance, Time\n",
    "\n",
    "Check if inputs are positive and Time ≠ 0\n",
    "\n",
    "Formula: Speed = Distance / Time\n",
    "\n",
    "Display Speed\n",
    "\n",
    "If choice = 2 (Distance):\n",
    "\n",
    "Input: Speed, Time\n",
    "\n",
    "Check if inputs are positive\n",
    "\n",
    "Formula: Distance = Speed × Time\n",
    "\n",
    "Display Distance\n",
    "\n",
    "If choice = 3 (Time):\n",
    "\n",
    "Input: Distance, Speed\n",
    "\n",
    "Check if inputs are positive and Speed ≠ 0\n",
    "\n",
    "Formula: Time = Distance / Speed\n",
    "\n",
    "Display Time\n",
    "\n",
    "If choice = 4 (Exit):\n",
    "\n",
    "Display a goodbye message\n",
    "\n",
    "Stop the program\n",
    "\n",
    "If the user enters an invalid choice:\n",
    "\n",
    "Display an error message\n",
    "\n",
    "Show the menu again\n",
    "\n",
    "Repeat the process until the user selects \"Exit\"."
   ]
  },
  {
   "cell_type": "code",
   "execution_count": 1,
   "id": "09f2e427-9bcd-428e-be7b-c883b9ba8a17",
   "metadata": {},
   "outputs": [
    {
     "name": "stdout",
     "output_type": "stream",
     "text": [
      "\n",
      "--- Speed, Distance, and Time Calculator ---\n",
      "\n",
      "1. Find Speed\n",
      "2. Find Distance\n",
      "3. Find Time\n",
      "4. Exit\n"
     ]
    },
    {
     "name": "stdin",
     "output_type": "stream",
     "text": [
      "Enter your choice (1-4):  1\n",
      "Enter distance:  100\n",
      "Enter time:  2\n"
     ]
    },
    {
     "name": "stdout",
     "output_type": "stream",
     "text": [
      "Speed = 50.0\n",
      "\n",
      "--- Speed, Distance, and Time Calculator ---\n",
      "\n",
      "1. Find Speed\n",
      "2. Find Distance\n",
      "3. Find Time\n",
      "4. Exit\n"
     ]
    },
    {
     "name": "stdin",
     "output_type": "stream",
     "text": [
      "Enter your choice (1-4):  2\n",
      "Enter speed:  60\n",
      "Enter time:  3\n"
     ]
    },
    {
     "name": "stdout",
     "output_type": "stream",
     "text": [
      "Distance = 180.0\n",
      "\n",
      "--- Speed, Distance, and Time Calculator ---\n",
      "\n",
      "1. Find Speed\n",
      "2. Find Distance\n",
      "3. Find Time\n",
      "4. Exit\n"
     ]
    },
    {
     "name": "stdin",
     "output_type": "stream",
     "text": [
      "Enter your choice (1-4):  3\n",
      "Enter distance:  150\n",
      "Enter speed:  50\n"
     ]
    },
    {
     "name": "stdout",
     "output_type": "stream",
     "text": [
      "Time = 3.0\n",
      "\n",
      "--- Speed, Distance, and Time Calculator ---\n",
      "\n",
      "1. Find Speed\n",
      "2. Find Distance\n",
      "3. Find Time\n",
      "4. Exit\n"
     ]
    },
    {
     "name": "stdin",
     "output_type": "stream",
     "text": [
      "Enter your choice (1-4):  2\n",
      "Enter speed:  -50\n",
      "Enter time:  3\n"
     ]
    },
    {
     "name": "stdout",
     "output_type": "stream",
     "text": [
      "Distance = Error: Speed & Time must be positive!\n",
      "\n",
      "--- Speed, Distance, and Time Calculator ---\n",
      "\n",
      "1. Find Speed\n",
      "2. Find Distance\n",
      "3. Find Time\n",
      "4. Exit\n"
     ]
    },
    {
     "name": "stdin",
     "output_type": "stream",
     "text": [
      "Enter your choice (1-4):  1\n",
      "Enter distance:  120\n",
      "Enter time:  0\n"
     ]
    },
    {
     "name": "stdout",
     "output_type": "stream",
     "text": [
      "Speed = Error: Distance & Time must be positive, and Time ≠ 0!\n",
      "\n",
      "--- Speed, Distance, and Time Calculator ---\n",
      "\n",
      "1. Find Speed\n",
      "2. Find Distance\n",
      "3. Find Time\n",
      "4. Exit\n"
     ]
    },
    {
     "name": "stdin",
     "output_type": "stream",
     "text": [
      "Enter your choice (1-4):  3\n",
      "Enter distance:  100\n",
      "Enter speed:  0\n"
     ]
    },
    {
     "name": "stdout",
     "output_type": "stream",
     "text": [
      "Time = Error: Distance must be positive and Speed ≠ 0!\n",
      "\n",
      "--- Speed, Distance, and Time Calculator ---\n",
      "\n",
      "1. Find Speed\n",
      "2. Find Distance\n",
      "3. Find Time\n",
      "4. Exit\n"
     ]
    },
    {
     "name": "stdin",
     "output_type": "stream",
     "text": [
      "Enter your choice (1-4):  4\n"
     ]
    },
    {
     "name": "stdout",
     "output_type": "stream",
     "text": [
      "Goodbye!\n"
     ]
    }
   ],
   "source": [
    "class Calculator:\n",
    "    def speed(self, d, t):\n",
    "        if d < 0 or t <= 0:\n",
    "            return \"Error: Distance & Time must be positive, and Time ≠ 0!\"\n",
    "        return d / t\n",
    "\n",
    "    def distance(self, s, t):\n",
    "        if s < 0 or t < 0:\n",
    "            return \"Error: Speed & Time must be positive!\"\n",
    "        return s * t\n",
    "\n",
    "    def time(self, d, s):\n",
    "        if d < 0 or s <= 0:\n",
    "            return \"Error: Distance must be positive and Speed ≠ 0!\"\n",
    "        return d / s\n",
    "\n",
    "\n",
    "def main():\n",
    "    cal = Calculator()\n",
    "\n",
    "    while True:\n",
    "        print(\"\\n--- Speed, Distance, and Time Calculator ---\")\n",
    "        print(\"\"\"\n",
    "1. Find Speed\n",
    "2. Find Distance\n",
    "3. Find Time\n",
    "4. Exit\"\"\")\n",
    "        choice = input(\"Enter your choice (1-4): \")\n",
    "\n",
    "        if choice == '1':\n",
    "            distance = float(input(\"Enter distance: \"))\n",
    "            time = float(input(\"Enter time: \"))\n",
    "            result = cal.speed(distance, time)\n",
    "            print(\"Speed =\", result)\n",
    "\n",
    "        elif choice == '2':\n",
    "            speed = float(input(\"Enter speed: \"))\n",
    "            time = float(input(\"Enter time: \"))\n",
    "            result = cal.distance(speed, time)\n",
    "            print(\"Distance =\", result)\n",
    "\n",
    "        elif choice == '3':\n",
    "            distance = float(input(\"Enter distance: \"))\n",
    "            speed = float(input(\"Enter speed: \"))\n",
    "            result = cal.time(distance, speed)\n",
    "            print(\"Time =\", result)\n",
    "\n",
    "        elif choice == '4':\n",
    "            print(\"Goodbye!\")\n",
    "            break\n",
    "\n",
    "        else:\n",
    "            print(\"Wrong choice! Please type 1 to 4.\")\n",
    "\n",
    "\n",
    "main()\n"
   ]
  },
  {
   "cell_type": "code",
   "execution_count": null,
   "id": "1d789a7c-42f9-421a-a051-655215f2bdac",
   "metadata": {},
   "outputs": [],
   "source": []
  }
 ],
 "metadata": {
  "kernelspec": {
   "display_name": "Python 3 (ipykernel)",
   "language": "python",
   "name": "python3"
  },
  "language_info": {
   "codemirror_mode": {
    "name": "ipython",
    "version": 3
   },
   "file_extension": ".py",
   "mimetype": "text/x-python",
   "name": "python",
   "nbconvert_exporter": "python",
   "pygments_lexer": "ipython3",
   "version": "3.13.5"
  }
 },
 "nbformat": 4,
 "nbformat_minor": 5
}
